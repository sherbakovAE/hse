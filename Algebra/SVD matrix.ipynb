{
 "cells": [
  {
   "cell_type": "code",
   "execution_count": 1,
   "metadata": {
    "collapsed": true,
    "pycharm": {
     "is_executing": false
    }
   },
   "outputs": [],
   "source": [
    "import numpy as np"
   ]
  },
  {
   "cell_type": "markdown",
   "source": [
    "Задание 2\n",
    "\n",
    "Найдите SVD разложение матрицы\n",
    "\n",
    "\\begin{bmatrix} 2 & -7 \\\\ -1 & 10 \\\\ 5 & 4 \\\\ 1 & -2\\end{bmatrix}"
   ],
   "metadata": {
    "collapsed": false
   }
  },
  {
   "cell_type": "code",
   "execution_count": 2,
   "outputs": [
    {
     "name": "stdout",
     "text": [
      "Unitary array \n",
      " [[ 0.54420625  0.30565094]\n",
      " [-0.77124861 -0.10199676]\n",
      " [-0.29050406  0.93225306]\n",
      " [ 0.1569157   0.16455517]]\n",
      "singular values \n",
      " [13.01001069  5.5443324 ]\n",
      "Unitary array \n",
      " [[ 0.04335558 -0.9990597 ]\n",
      " [ 0.9990597   0.04335558]]\n"
     ],
     "output_type": "stream"
    }
   ],
   "source": [
    "matrix = np.array(\n",
    "   ( (2,-7),\n",
    "    (-1,10),\n",
    "    (5,4),\n",
    "    (1,-2))\n",
    "    )\n",
    "u ,s ,vh = np.linalg.svd(matrix,full_matrices=False)\n",
    "print('Unitary array','\\n', u)\n",
    "print('singular values','\\n', s)\n",
    "print('Unitary array','\\n', vh)"
   ],
   "metadata": {
    "collapsed": false,
    "pycharm": {
     "name": "#%%\n",
     "is_executing": false
    }
   }
  },
  {
   "cell_type": "markdown",
   "source": [
    "Задание 7\n",
    "\n",
    "Найдите (приближенно, 2 цифры после запятой) собственные числа матрицы\n",
    "\n",
    "\\begin{bmatrix} 1 & -2 & 5\\\\ 1 & -2 & 1\\\\ 1 & 2 & 6\\end{bmatrix}"
   ],
   "metadata": {
    "collapsed": false,
    "pycharm": {
     "name": "#%% md\n",
     "is_executing": false
    }
   }
  },
  {
   "cell_type": "code",
   "execution_count": 3,
   "outputs": [
    {
     "name": "stdout",
     "text": [
      "The eigenvalues, each repeated according to its multiplicity \n",
      " [ 7.14+0.j   -1.07+1.05j -1.07-1.05j]\n",
      "The normalized (unit “length”) eigenvectors, such that the column v[:,i] is the eigenvector corresponding to the eigenvalue w[i] \n",
      " [[ 0.59+0.j   -0.86+0.j   -0.86-0.j  ]\n",
      " [ 0.15+0.j   -0.33+0.31j -0.33-0.31j]\n",
      " [ 0.79+0.j    0.22-0.06j  0.22+0.06j]]\n"
     ],
     "output_type": "stream"
    }
   ],
   "source": [
    "np.set_printoptions(precision=2)\n",
    "matrix = np.array(\n",
    "   ( (1,-2,5),\n",
    "    (1,-2,1),\n",
    "    (1,2,6))\n",
    "    )\n",
    "w,v = np.linalg.eig(matrix)\n",
    "print('The eigenvalues, each repeated according to its multiplicity','\\n', w)\n",
    "print('The normalized (unit “length”) eigenvectors, such that the column v[:,i] is the eigenvector corresponding to the eigenvalue w[i]','\\n', v)"
   ],
   "metadata": {
    "collapsed": false,
    "pycharm": {
     "name": "#%%\n",
     "is_executing": false
    }
   }
  }
 ],
 "metadata": {
  "kernelspec": {
   "display_name": "Python 3",
   "language": "python",
   "name": "python3"
  },
  "language_info": {
   "codemirror_mode": {
    "name": "ipython",
    "version": 2
   },
   "file_extension": ".py",
   "mimetype": "text/x-python",
   "name": "python",
   "nbconvert_exporter": "python",
   "pygments_lexer": "ipython2",
   "version": "2.7.6"
  },
  "pycharm": {
   "stem_cell": {
    "cell_type": "raw",
    "source": [],
    "metadata": {
     "collapsed": false
    }
   }
  }
 },
 "nbformat": 4,
 "nbformat_minor": 0
}