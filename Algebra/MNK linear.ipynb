{
 "cells": [
  {
   "cell_type": "code",
   "execution_count": 1,
   "metadata": {
    "collapsed": true,
    "pycharm": {
     "is_executing": false
    }
   },
   "outputs": [],
   "source": [
    "import scipy as sp\n",
    "import matplotlib.pyplot as plt\n"
   ]
  },
  {
   "cell_type": "markdown",
   "source": [
    "Найдите прямую, наилучшим образом (метод наименьших квадратов), приближающую точки\n",
    "\n",
    "(2,5) (3,6) (4,5)"
   ],
   "metadata": {
    "collapsed": false,
    "pycharm": {
     "name": "#%% md\n",
     "is_executing": false
    }
   }
  },
  {
   "cell_type": "code",
   "execution_count": 2,
   "outputs": [
    {
     "name": "stdout",
     "text": [
      "Коэффициент -- a 0.0  \n",
      "Коэффициент-- b 5.3333  \n",
      "Average quadratic deviation 66.6667\n"
     ],
     "output_type": "stream"
    },
    {
     "data": {
      "text/plain": "<Figure size 432x288 with 1 Axes>",
      "image/png": "[encoded data removed]"
     },
     "metadata": {
      "needs_background": "light"
     },
     "output_type": "display_data"
    }
   ],
   "source": [
    "x,y = (2,3,4), (5,6,5)\n",
    "d=1 # степень полинома\n",
    "fp, residuals, rank, sv, rcond  = sp.polyfit(x, y, d, full=True) # Модель\n",
    "f = sp.poly1d(fp) # аппроксимирующая функция\n",
    "print('Коэффициент -- a %s  '%round(fp[0],4))\n",
    "print('Коэффициент-- b %s  '%round(fp[1],4))\n",
    "y1=[fp[0]*x[i]**2+fp[1]*x[i]for i in range(0,len(x))] # значения функции a*x+b\n",
    "so=round(sum([abs(y[i]-y1[i]) for i in range(0,len(x))])/(len(x)*sum(y))*100,4) # средняя ошибка\n",
    "print('Average quadratic deviation '+str(so)) \n",
    "fx = sp.linspace(x[0], x[-1] + 1, len(x)) # можно установить вместо len(x) большее число для интерполяции\n",
    "plt.plot(x, y, 'o', label='Original data', markersize=10)\n",
    "plt.plot(fx, f(fx), linewidth=2)\n",
    "plt.grid(True)\n",
    "plt.show() "
   ],
   "metadata": {
    "collapsed": false,
    "pycharm": {
     "name": "#%%\n",
     "is_executing": false
    }
   }
  }
 ],
 "metadata": {
  "kernelspec": {
   "display_name": "Python 3",
   "language": "python",
   "name": "python3"
  },
  "language_info": {
   "codemirror_mode": {
    "name": "ipython",
    "version": 2
   },
   "file_extension": ".py",
   "mimetype": "text/x-python",
   "name": "python",
   "nbconvert_exporter": "python",
   "pygments_lexer": "ipython2",
   "version": "2.7.6"
  },
  "pycharm": {
   "stem_cell": {
    "cell_type": "raw",
    "source": [],
    "metadata": {
     "collapsed": false
    }
   }
  }
 },
 "nbformat": 4,
 "nbformat_minor": 0
}